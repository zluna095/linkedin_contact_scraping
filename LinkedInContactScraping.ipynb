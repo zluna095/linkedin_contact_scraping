{
 "cells": [
  {
   "cell_type": "code",
   "execution_count": 4,
   "metadata": {
    "collapsed": true,
    "pycharm": {
     "is_executing": false
    }
   },
   "outputs": [
    {
     "name": "stdout",
     "text": [
      "Requirement already satisfied: pandas in /Users/ziluzeng/Documents/OCBang/newstart/lib/python3.7/site-packages (1.1.0)\r\n",
      "Requirement already satisfied: numpy>=1.15.4 in /Users/ziluzeng/Documents/OCBang/newstart/lib/python3.7/site-packages (from pandas) (1.19.1)\r\n",
      "Requirement already satisfied: python-dateutil>=2.7.3 in /Users/ziluzeng/Documents/OCBang/newstart/lib/python3.7/site-packages (from pandas) (2.8.1)\r\n",
      "Requirement already satisfied: pytz>=2017.2 in /Users/ziluzeng/Documents/OCBang/newstart/lib/python3.7/site-packages (from pandas) (2020.1)\r\n",
      "Requirement already satisfied: six>=1.5 in /Users/ziluzeng/Documents/OCBang/newstart/lib/python3.7/site-packages (from python-dateutil>=2.7.3->pandas) (1.15.0)\r\n",
      "Requirement already satisfied: selenium in /Users/ziluzeng/Documents/OCBang/newstart/lib/python3.7/site-packages (3.141.0)\r\n",
      "Requirement already satisfied: urllib3 in /Users/ziluzeng/Documents/OCBang/newstart/lib/python3.7/site-packages (from selenium) (1.25.10)\r\n",
      "Collecting time\r\n",
      "\u001b[31m  Could not find a version that satisfies the requirement time (from versions: )\u001b[0m\r\n",
      "\u001b[31mNo matching distribution found for time\u001b[0m\r\n",
      "Requirement already satisfied: parsel in /Users/ziluzeng/Documents/OCBang/newstart/lib/python3.7/site-packages (1.6.0)\r\n",
      "Requirement already satisfied: w3lib>=1.19.0 in /Users/ziluzeng/Documents/OCBang/newstart/lib/python3.7/site-packages (from parsel) (1.22.0)\r\n",
      "Requirement already satisfied: lxml in /Users/ziluzeng/Documents/OCBang/newstart/lib/python3.7/site-packages (from parsel) (4.5.2)\r\n",
      "Requirement already satisfied: six>=1.6.0 in /Users/ziluzeng/Documents/OCBang/newstart/lib/python3.7/site-packages (from parsel) (1.15.0)\r\n",
      "Requirement already satisfied: cssselect>=0.9 in /Users/ziluzeng/Documents/OCBang/newstart/lib/python3.7/site-packages (from parsel) (1.1.0)\r\n"
     ],
     "output_type": "stream"
    }
   ],
   "source": [
    "import time\n",
    "!pip install pandas\n",
    "import pandas as pd\n",
    "!pip install selenium \n",
    "!pip install time\n",
    "!pip install parsel\n",
    "from selenium import webdriver\n",
    "from selenium.webdriver.chrome.webdriver import WebDriver\n",
    "from selenium.webdriver.common.keys import Keys\n",
    "import re"
   ]
  },
  {
   "cell_type": "code",
   "execution_count": 2,
   "outputs": [],
   "source": [
    "# log in LinkedIn\n",
    "driver: WebDriver = webdriver.Chrome()\n",
    "driver.get('https://www.linkedin.com/login')\n",
    "name_ID_elem = driver.find_element_by_id('username')\n",
    "name_ID_elem.send_keys('username@yahoo.com')\n",
    "pwd_ID_elem = driver.find_element_by_id('password')\n",
    "pwd_ID_elem.send_keys('your_password')\n",
    "sign_in_button = driver.find_element_by_xpath('//*[@type=\"submit\"]')\n",
    "sign_in_button.click()\n",
    "time.sleep(0.5)"
   ],
   "metadata": {
    "collapsed": false,
    "pycharm": {
     "name": "#%%\n",
     "is_executing": false
    }
   }
  },
  {
   "cell_type": "code",
   "execution_count": 3,
   "outputs": [],
   "source": [
    "# open the Messages page\n",
    "messages_elem = driver.find_element_by_id('messaging-tab-icon')\n",
    "messages_elem.click()"
   ],
   "metadata": {
    "collapsed": false,
    "pycharm": {
     "name": "#%%\n",
     "is_executing": false
    }
   }
  },
  {
   "cell_type": "code",
   "execution_count": 23,
   "outputs": [
    {
     "name": "stdout",
     "text": [
      "10\n",
      "10\n",
      "10\n"
     ],
     "output_type": "stream"
    }
   ],
   "source": [
    "names = []\n",
    "email_list = []\n",
    "phones = []\n",
    "for person in driver.find_elements_by_class_name('msg-conversation-card__participant-names'):\n",
    "    name = person.text\n",
    "    time.sleep(0.5)\n",
    "    person.click()\n",
    "    for text in driver.find_elements_by_class_name(\"msg-s-event-listitem__body\"):\n",
    "        emails = re.findall(r\"[a-z0-9\\.\\-+_]+@[a-z0-9\\.\\-+_]+\\.[a-z]+\", text.text)\n",
    "        phone = re.findall( r\"(\\d{3}|\\(\\d{3}\\))?(\\s|-|\\.)?(\\d{3})(\\s|-|\\.)(\\d{4})\" ,text.text)\n",
    "        \n",
    "        if emails!=[] or phone != []:\n",
    "            email_list=email_list+[emails]\n",
    "            names = names + [name]\n",
    "            phones = phones + [phone]\n",
    "\n",
    "            \n",
    "            \n",
    "    scroll=driver.find_element_by_tag_name('html')\n",
    "    scroll.send_keys(Keys.DOWN)\n",
    "    scroll.send_keys(Keys.DOWN)\n",
    "    scroll.send_keys(Keys.DOWN)\n",
    "\n",
    "print(len(names))\n",
    "print(len(email_list))\n",
    "print(len(phones))\n"
   ],
   "metadata": {
    "collapsed": false,
    "pycharm": {
     "name": "#%%\n",
     "is_executing": false
    }
   }
  },
  {
   "cell_type": "code",
   "execution_count": 24,
   "outputs": [],
   "source": [
    "output = [names, email_list, phones]\n",
    "df = pd.DataFrame(output)\n",
    "df_t = df.T\n",
    "df_t.to_csv('/Users/ziluzeng/Documents/OCBang/linkedin_conversations.csv', index=False)"
   ],
   "metadata": {
    "collapsed": false,
    "pycharm": {
     "name": "#%%\n",
     "is_executing": false
    }
   }
  }
 ],
 "metadata": {
  "kernelspec": {
   "name": "python3",
   "language": "python",
   "display_name": "Python 3"
  },
  "language_info": {
   "codemirror_mode": {
    "name": "ipython",
    "version": 2
   },
   "file_extension": ".py",
   "mimetype": "text/x-python",
   "name": "python",
   "nbconvert_exporter": "python",
   "pygments_lexer": "ipython2",
   "version": "2.7.6"
  },
  "pycharm": {
   "stem_cell": {
    "cell_type": "raw",
    "source": [],
    "metadata": {
     "collapsed": false
    }
   }
  }
 },
 "nbformat": 4,
 "nbformat_minor": 0
}